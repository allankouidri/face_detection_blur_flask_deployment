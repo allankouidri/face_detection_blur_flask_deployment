{
 "cells": [
  {
   "cell_type": "code",
   "execution_count": 5,
   "metadata": {},
   "outputs": [],
   "source": [
    "import os\n",
    "import ikomia \n",
    "from ikomia.utils import ik\n",
    "from ikomia.dataprocess import workflow\n",
    "import cv2\n",
    "import numpy as np \n",
    "\n",
    "os.environ['IKOMIA_USER'] = \"demo\"\n",
    "os.environ['IKOMIA_PWD'] = \"jH4q72DApbRPa4k\"\n",
    "\n",
    "ikomia.authenticate()"
   ]
  },
  {
   "cell_type": "markdown",
   "metadata": {},
   "source": [
    "### Setting up workflow"
   ]
  },
  {
   "cell_type": "code",
   "execution_count": 6,
   "metadata": {},
   "outputs": [],
   "source": [
    "#  Workflow initialization\n",
    "wf = workflow.create(\"Face detection and blur\")\n",
    "\n",
    "# Add kornia face detection algo to workflow\n",
    "face_dect_id, face_dect = wf.add_task(\"infer_face_detection_kornia\")\n",
    "\n",
    "# Add open cv guaussian blur to the workflow\n",
    "blurr_id, blurr = wf.add_task(ik.ocv_gaussian_blur)\n",
    "\n",
    "# Set parameters\n",
    "blurr_params = {\n",
    "    ik.ocv_gaussian_blur_param.sigmaX: 45.0,\n",
    "    ik.ocv_gaussian_blur_param.sigmaY: 45.0,\n",
    "    ik.ocv_gaussian_blur_param.borderType: 2,\n",
    "    ik.ocv_gaussian_blur_param.sizeX: 29,\n",
    "    ik.ocv_gaussian_blur_param.sizeY: 29,\n",
    "}\n",
    "\n",
    "wf.set_parameters(task_id=blurr_id, params=blurr_params)\n",
    "\n",
    "# Connect tasks\n",
    "wf.connect_tasks(wf.getRootID(), face_dect_id)\n",
    "wf.connect_tasks(face_dect_id, blurr_id)\n",
    "\n"
   ]
  },
  {
   "attachments": {},
   "cell_type": "markdown",
   "metadata": {},
   "source": [
    "### Detection and blur from image\n"
   ]
  },
  {
   "cell_type": "code",
   "execution_count": 7,
   "metadata": {},
   "outputs": [
    {
     "name": "stdout",
     "output_type": "stream",
     "text": [
      "Will run on cuda\n"
     ]
    },
    {
     "name": "stderr",
     "output_type": "stream",
     "text": [
      "c:\\Users\\poopo\\Desktop\\Ikomia\\SegFormer\\ikomia-seg\\lib\\site-packages\\torch\\nn\\functional.py:718: UserWarning: Named tensors and all their associated APIs are an experimental feature and subject to change. Please do not use them for anything important until they are released as stable. (Triggered internally at  ..\\c10/core/TensorImpl.h:1156.)\n",
      "  return torch.max_pool2d(input, kernel_size, stride, padding, dilation, ceil_mode)\n"
     ]
    },
    {
     "ename": "KeyboardInterrupt",
     "evalue": "",
     "output_type": "error",
     "traceback": [
      "\u001b[1;31m---------------------------------------------------------------------------\u001b[0m",
      "\u001b[1;31mKeyboardInterrupt\u001b[0m                         Traceback (most recent call last)",
      "Cell \u001b[1;32mIn [7], line 8\u001b[0m\n\u001b[0;32m      5\u001b[0m img \u001b[39m=\u001b[39m cv2\u001b[39m.\u001b[39mcvtColor(img, cv2\u001b[39m.\u001b[39mCOLOR_RGB2BGR)\n\u001b[0;32m      6\u001b[0m cv2\u001b[39m.\u001b[39mimshow(\u001b[39m'\u001b[39m\u001b[39mobject detection (press \u001b[39m\u001b[39m\\'\u001b[39;00m\u001b[39mq\u001b[39m\u001b[39m\\'\u001b[39;00m\u001b[39m to quit)\u001b[39m\u001b[39m'\u001b[39m, img)\n\u001b[1;32m----> 8\u001b[0m cv2\u001b[39m.\u001b[39;49mwaitKey(\u001b[39m-\u001b[39;49m\u001b[39m1\u001b[39;49m)\n",
      "\u001b[1;31mKeyboardInterrupt\u001b[0m: "
     ]
    }
   ],
   "source": [
    "# Inference\n",
    "img_path = \"images/detect_image/img1.png\"\n",
    "wf.run_on(img_path)\n",
    "\n",
    "img = wf.get_image(blurr_id, index=0)\n",
    "img = cv2.cvtColor(img, cv2.COLOR_RGB2BGR)\n",
    "cv2.imshow('object detection (press \\'q\\' to quit)', img)\n",
    "\n",
    "cv2.waitKey(-1)"
   ]
  },
  {
   "cell_type": "markdown",
   "metadata": {},
   "source": [
    "### Detection and blur from webcam\n"
   ]
  },
  {
   "cell_type": "code",
   "execution_count": 8,
   "metadata": {},
   "outputs": [],
   "source": [
    "cap = cv2.VideoCapture(0)\n",
    "\n",
    "# Check if the webcam is opened correctly\n",
    "if not cap.isOpened():\n",
    "    raise IOError(\"Cannot open webcam\")\n",
    "\n",
    "while True:\n",
    "    ret, frame = cap.read()\n",
    "    image_np = np.array(frame)\n",
    "    \n",
    "    wf.run_on(image_np)\n",
    "    \n",
    "    img = wf.get_image(blurr_id, index=0)\n",
    "\n",
    "    cv2.imshow('object detection (press \\'q\\' to quit)', img)\n",
    "    \n",
    "    if cv2.waitKey(10) & 0xFF == ord('q'):\n",
    "        cap.release()\n",
    "        cv2.destroyAllWindows()\n",
    "        break\n",
    "\n",
    "cap.release()\n",
    "cv2.destroyAllWindows()"
   ]
  }
 ],
 "metadata": {
  "kernelspec": {
   "display_name": "ikomia-seg",
   "language": "python",
   "name": "python3"
  },
  "language_info": {
   "codemirror_mode": {
    "name": "ipython",
    "version": 3
   },
   "file_extension": ".py",
   "mimetype": "text/x-python",
   "name": "python",
   "nbconvert_exporter": "python",
   "pygments_lexer": "ipython3",
   "version": "3.8.6 (tags/v3.8.6:db45529, Sep 23 2020, 15:52:53) [MSC v.1927 64 bit (AMD64)]"
  },
  "orig_nbformat": 4,
  "vscode": {
   "interpreter": {
    "hash": "9a9aa5f703b5bcd89a2bfe56745fc23d6639a54bad46b695e4e6d7ad968388be"
   }
  }
 },
 "nbformat": 4,
 "nbformat_minor": 2
}
